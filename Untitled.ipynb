{
 "cells": [
  {
   "cell_type": "code",
   "execution_count": 1,
   "metadata": {},
   "outputs": [
    {
     "ename": "NameError",
     "evalue": "name 'arrest_data' is not defined",
     "output_type": "error",
     "traceback": [
      "\u001b[1;31m---------------------------------------------------------------------------\u001b[0m",
      "\u001b[1;31mNameError\u001b[0m                                 Traceback (most recent call last)",
      "\u001b[1;32m<ipython-input-1-61653e862413>\u001b[0m in \u001b[0;36m<module>\u001b[1;34m\u001b[0m\n\u001b[1;32m----> 1\u001b[1;33m \u001b[0marrest_data\u001b[0m\u001b[1;33m.\u001b[0m\u001b[0mcolumns\u001b[0m\u001b[1;33m\u001b[0m\u001b[1;33m\u001b[0m\u001b[0m\n\u001b[0m\u001b[0;32m      2\u001b[0m updated_arrest_data = arrest_data.rename(columns = {'Report ID':'Report_ID', 'Arrest Date': 'Arrest_date', 'Area ID': 'Area_ID', 'Area Name':'Area_name',\n\u001b[0;32m      3\u001b[0m        \u001b[1;34m'Reporting District'\u001b[0m\u001b[1;33m:\u001b[0m\u001b[1;34m'Reporting_district_number'\u001b[0m\u001b[1;33m,\u001b[0m \u001b[1;34m'Sex Code'\u001b[0m\u001b[1;33m:\u001b[0m \u001b[1;34m'Sex_code'\u001b[0m\u001b[1;33m,\u001b[0m \u001b[1;34m'Descent Code'\u001b[0m\u001b[1;33m:\u001b[0m\u001b[1;34m'Descent_code'\u001b[0m\u001b[1;33m,\u001b[0m\u001b[1;33m\u001b[0m\u001b[1;33m\u001b[0m\u001b[0m\n\u001b[0;32m      4\u001b[0m        'Charge Group Code': 'Charge_group_code', 'Charge Group Description': 'Charge_group_description', 'Arrest Type Code': 'Arrest_type_code', 'Charge Description':'Charge_description', 'Cross Street': 'Cross_street'})\n\u001b[0;32m      5\u001b[0m \u001b[0mupdated_arrest_data\u001b[0m\u001b[1;33m[\u001b[0m\u001b[1;33m[\u001b[0m\u001b[1;34m'LAT'\u001b[0m\u001b[1;33m,\u001b[0m\u001b[1;34m'LNG'\u001b[0m\u001b[1;33m]\u001b[0m\u001b[1;33m]\u001b[0m \u001b[1;33m=\u001b[0m \u001b[0mupdated_arrest_data\u001b[0m\u001b[1;33m.\u001b[0m\u001b[0mLocation\u001b[0m\u001b[1;33m.\u001b[0m\u001b[0mstr\u001b[0m\u001b[1;33m.\u001b[0m\u001b[0mstrip\u001b[0m\u001b[1;33m(\u001b[0m\u001b[1;34m'()'\u001b[0m\u001b[1;33m)\u001b[0m\u001b[1;33m.\u001b[0m\u001b[0mstr\u001b[0m\u001b[1;33m.\u001b[0m\u001b[0msplit\u001b[0m\u001b[1;33m(\u001b[0m\u001b[1;34m\",\"\u001b[0m\u001b[1;33m,\u001b[0m \u001b[0mexpand\u001b[0m \u001b[1;33m=\u001b[0m \u001b[1;32mTrue\u001b[0m\u001b[1;33m)\u001b[0m\u001b[1;33m\u001b[0m\u001b[1;33m\u001b[0m\u001b[0m\n",
      "\u001b[1;31mNameError\u001b[0m: name 'arrest_data' is not defined"
     ]
    }
   ],
   "source": [
    "arrest_data.columns\n",
    "updated_arrest_data = arrest_data.rename(columns = {'Report ID':'Report_ID', 'Arrest Date': 'Arrest_date', 'Area ID': 'Area_ID', 'Area Name':'Area_name',\n",
    "       'Reporting District':'Reporting_district_number', 'Sex Code': 'Sex_code', 'Descent Code':'Descent_code',\n",
    "       'Charge Group Code': 'Charge_group_code', 'Charge Group Description': 'Charge_group_description', 'Arrest Type Code': 'Arrest_type_code', 'Charge Description':'Charge_description', 'Cross Street': 'Cross_street'})\n",
    "updated_arrest_data[['LAT','LNG']] = updated_arrest_data.Location.str.strip('()').str.split(\",\", expand = True)\n",
    "updated_arrest_data = updated_arrest_data[['Report_ID', 'Arrest_date', 'Time', 'Area_ID', 'Area_name',\n",
    "       'Reporting_district_number', 'Age', 'Sex_code', 'Descent_code',\n",
    "       'Charge_group_code', 'Charge_group_description', 'Arrest_type_code',\n",
    "       'Charge', 'Charge_description', 'Address', 'Cross_street','LAT', 'LNG']]\n",
    "\n",
    "updated_arrest_data.head()"
   ]
  },
  {
   "cell_type": "code",
   "execution_count": 2,
   "metadata": {},
   "outputs": [
    {
     "ename": "NameError",
     "evalue": "name 'mo_codes' is not defined",
     "output_type": "error",
     "traceback": [
      "\u001b[1;31m---------------------------------------------------------------------------\u001b[0m",
      "\u001b[1;31mNameError\u001b[0m                                 Traceback (most recent call last)",
      "\u001b[1;32m<ipython-input-2-5e83f8ac04de>\u001b[0m in \u001b[0;36m<module>\u001b[1;34m\u001b[0m\n\u001b[1;32m----> 1\u001b[1;33m \u001b[0mmo_codes\u001b[0m\u001b[1;33m\u001b[0m\u001b[1;33m\u001b[0m\u001b[0m\n\u001b[0m",
      "\u001b[1;31mNameError\u001b[0m: name 'mo_codes' is not defined"
     ]
    }
   ],
   "source": [
    "mo_codes"
   ]
  },
  {
   "cell_type": "code",
   "execution_count": 3,
   "metadata": {},
   "outputs": [
    {
     "ename": "NameError",
     "evalue": "name 'updated_arrest_data' is not defined",
     "output_type": "error",
     "traceback": [
      "\u001b[1;31m---------------------------------------------------------------------------\u001b[0m",
      "\u001b[1;31mNameError\u001b[0m                                 Traceback (most recent call last)",
      "\u001b[1;32m<ipython-input-3-97668e551e83>\u001b[0m in \u001b[0;36m<module>\u001b[1;34m\u001b[0m\n\u001b[1;32m----> 1\u001b[1;33m \u001b[0mupdated_arrest_data\u001b[0m\u001b[1;33m.\u001b[0m\u001b[0mto_csv\u001b[0m\u001b[1;33m(\u001b[0m\u001b[1;34m'../working Group_4 project/Data/cleaned_arrest_data.csv'\u001b[0m\u001b[1;33m)\u001b[0m\u001b[1;33m\u001b[0m\u001b[1;33m\u001b[0m\u001b[0m\n\u001b[0m\u001b[0;32m      2\u001b[0m \u001b[0mupdated_crime_data\u001b[0m\u001b[1;33m.\u001b[0m\u001b[0mto_csv\u001b[0m\u001b[1;33m(\u001b[0m\u001b[1;34m'../working Group_4 project/Data/cleaned_crime_data.csv'\u001b[0m\u001b[1;33m)\u001b[0m\u001b[1;33m\u001b[0m\u001b[1;33m\u001b[0m\u001b[0m\n",
      "\u001b[1;31mNameError\u001b[0m: name 'updated_arrest_data' is not defined"
     ]
    }
   ],
   "source": [
    "updated_arrest_data.to_csv('../working Group_4 project/Data/cleaned_arrest_data.csv')\n",
    "updated_crime_data.to_csv('../working Group_4 project/Data/cleaned_crime_data.csv')"
   ]
  },
  {
   "cell_type": "code",
   "execution_count": null,
   "metadata": {},
   "outputs": [],
   "source": []
  }
 ],
 "metadata": {
  "kernelspec": {
   "display_name": "Python 3",
   "language": "python",
   "name": "python3"
  },
  "language_info": {
   "codemirror_mode": {
    "name": "ipython",
    "version": 3
   },
   "file_extension": ".py",
   "mimetype": "text/x-python",
   "name": "python",
   "nbconvert_exporter": "python",
   "pygments_lexer": "ipython3",
   "version": "3.8.2"
  }
 },
 "nbformat": 4,
 "nbformat_minor": 4
}
